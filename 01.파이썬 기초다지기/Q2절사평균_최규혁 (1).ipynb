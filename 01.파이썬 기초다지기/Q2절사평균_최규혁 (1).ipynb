{
 "cells": [
  {
   "cell_type": "code",
   "execution_count": null,
   "metadata": {
    "colab": {
     "base_uri": "https://localhost:8080/"
    },
    "executionInfo": {
     "elapsed": 17528,
     "status": "ok",
     "timestamp": 1741613879269,
     "user": {
      "displayName": "최규혁",
      "userId": "15808553561818689944"
     },
     "user_tz": -540
    },
    "id": "8zW035KA9s2q",
    "outputId": "20179f38-b358-4f46-b5bf-c62dfd25676d"
   },
   "outputs": [],
   "source": [
    "!pip install pandas\n",
    "import pandas as pd\n",
    "customerData = pd.read_csv(\"https://raw.githubusercontent.com/hyokwan/python-lecture/refs/heads/master/dataset/kopo_customerdata.csv\")\n",
    "customerTotalList = customerData[\"TOTAL_AMOUNT\"].tolist()\n",
    "customerTotalList.sort()\n",
    "print(customerTotalList)\n",
    "\n",
    "minValue = min(customerTotalList)\n",
    "maxValue = max(customerTotalList) # 3103500 maxValue = 3103500\n",
    "\n",
    "print(\"최솟값은: \", minValue) # 3103500 maxValue = 3103500\n",
    "print(\"최댓값은: \", maxValue) # 3103500 maxValue = 3103500\n",
    "minnum = customerTotalList.count(minValue) # 3103500 maxValue = 3103500\n",
    "maxnum = customerTotalList.count(maxValue) # 3103500 maxValue = 3103500\n",
    "print(\"최솟값 개수:\",minnum ) # 3103500 maxValue = 3103500\n",
    "print(\"최댓값 개수:\",maxnum) # 3103500 maxValue = 3103500\n",
    "customerTotalList.remove(maxValue) # 3103500 maxValue = 3103500\n",
    "print(maxValue) # 3103500 maxValue = 3103500\n",
    "maxValue2 = max(customerTotalList) # 3103500 maxValue = 3103500\n",
    "print(maxValue2)\n",
    "\n",
    "print(customerTotalList[256:])\n",
    "finalcT = customerTotalList[256:]\n",
    "sumfinalcT = sum(finalcT)\n",
    "average = sumfinalcT / len(finalcT)\n",
    "int(average)\n"
   ]
  }
 ],
 "metadata": {
  "colab": {
   "authorship_tag": "ABX9TyNCJwgoUJ8yNIHfIpmThhJs",
   "provenance": []
  },
  "kernelspec": {
   "display_name": "Python 3",
   "name": "python3"
  },
  "language_info": {
   "name": "python"
  }
 },
 "nbformat": 4,
 "nbformat_minor": 0
}
